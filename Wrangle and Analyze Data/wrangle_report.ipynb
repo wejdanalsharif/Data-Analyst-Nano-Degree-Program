{
 "cells": [
  {
   "cell_type": "markdown",
   "metadata": {},
   "source": [
    "# Wrangle Report \n",
    "The dataset wrangled (and analyzed and visualized) is the tweet archive of Twitter user @dog_rates, also known as WeRateDogs. WeRateDogs is a Twitter account that rates people's dogs with a humorous comment about the dog."
   ]
  },
  {
   "cell_type": "markdown",
   "metadata": {},
   "source": [
    "# Project Steps \n",
    "The tasks in this project are as follows:\n",
    "\n",
    "Step 1: Gathering data\n",
    "\n",
    "Step 2: Assessing data\n",
    "\n",
    "Step 3: Cleaning data\n",
    "\n",
    "Step 4: Storing data\n",
    "\n",
    "Step 5: Analyzing, and visualizing data\n",
    "\n",
    "Step 6: Reporting"
   ]
  },
  {
   "cell_type": "markdown",
   "metadata": {},
   "source": [
    "### Gathering Data:\n",
    "\n",
    "In this step, I gathered all three pieces of data in the wrangle_act.ipynb notebook."
   ]
  },
  {
   "cell_type": "markdown",
   "metadata": {},
   "source": [
    "### Assessing Data:\n",
    "\n",
    "After gathering all three pieces of data, assessed them visually and programmatically for quality and tidiness issues.\n",
    "###### Pandas functions used for programmatically assessing:\n",
    ".head()\n",
    ".info()\n",
    ".describe()\n",
    ".sample()\n",
    ".isnull()\n",
    ".value_counts()\n",
    ".columns()\n",
    "\n",
    "\n",
    "##### Quality issues\n",
    "\n",
    "\n",
    "\n",
    "1.tweet_id  in twitter_archive & image_predictions, and id column in tweets_json, are an intgers.\n",
    "\n",
    "###### twitter_archive\n",
    "2.timestamp is an object.\n",
    "\n",
    "3.name mistake (such, an, a, the) which is not a name.\n",
    "\n",
    "4.the dataset has retweets.\n",
    "\n",
    "5.alot of missing data, in 6 columns (in_reply_to_status_id, in_reply_to_user_id, retweeted_status_id, retweeted_status_user_id, retweeted_status_timestamp, expanded_urls).\n",
    "\n",
    "###### image_predictions\n",
    "6.there are 66 duplicated urls.\n",
    "\n",
    "###### tweets_json\n",
    "7.These columns (in_reply_to_status_id, in_reply_to_status_id_str, in_reply_to_user_id, in_reply_to_user_id_str) are floats. And these two columns (retweet_count and favorite_count) are integers.\n",
    "\n",
    "8.there are null values in some columns, and other columns with NaN in all rows. 16 columns.\n",
    "\n",
    "\n",
    "\n",
    "##### Tidiness issues\n",
    "\n",
    "1.the dog \"stage\" in twitter_archive (doggo, floofer, pupper, and puppo) are in 4 columns.\n",
    "\n",
    "2.rename id column to tweet_id, like the other two DataFrames, so we can merge later.\n",
    "\n",
    "3.merge all 3 DataFrames into 1 DataFrame.\n"
   ]
  },
  {
   "cell_type": "markdown",
   "metadata": {},
   "source": [
    "### Cleaning Data:\n",
    "After data assessing I cleaned each issue in three steps (Define, Code, Test).\n",
    "\n",
    "1. Converted tweet_id in twitter_archive & image_predictions, and id column in tweets_json, to a string.\n",
    "\n",
    "2. Converted timestamp to datetime in twitter_archive_clean.\n",
    "\n",
    "3. Changed all name mistakes in twitter_archive_clean \"such, an, a, the\" (which are lowercase) to None.\n",
    "\n",
    "4. This dataset has retweets so I had to remove all rows with retweets and keep all rows with NaN, in retweeted_status_id.\n",
    "\n",
    "5. Drop these columns in twitter_archive_clean (retweeted_status_id, retweeted_status_user_id, retweeted_status_timestamp, in_reply_to_status_id, in_reply_to_user_id, expanded_urls) as it has alot of missing data.\n",
    "\n",
    "6. Drop the 66 duplicated urls in image_predictions_clean.\n",
    "\n",
    "7. Changed these columns (in_reply_to_status_id, in_reply_to_status_id_str, in_reply_to_user_id, in_reply_to_user_id_str) to objects. Also these two columns (retweet_count and favorite_count) changed to floats.\n",
    "\n",
    "8. Drop null values in tweets_json_clean.\n",
    "\n",
    "9. Created the dog_stage in twitter_archive_clean, and then put (doggo, floofer, pupper, and puppo) as values in it.\n",
    "\n",
    "10. Renamed id in 'tweets_json_clean' column to tweet_id, like the other two DataFrames, so we can merge later.\n",
    "\n",
    "11. Finally, merged all 3 DataFrames into 1 DataFrame."
   ]
  },
  {
   "cell_type": "markdown",
   "metadata": {},
   "source": [
    "### Storing Data:\n",
    "\n",
    "And after gathering, assessing & cleaning the data I stored it to a CSV file to do the last step which is Analyzing, and visualizing data. "
   ]
  }
 ],
 "metadata": {
  "kernelspec": {
   "display_name": "Python 3",
   "language": "python",
   "name": "python3"
  },
  "language_info": {
   "codemirror_mode": {
    "name": "ipython",
    "version": 3
   },
   "file_extension": ".py",
   "mimetype": "text/x-python",
   "name": "python",
   "nbconvert_exporter": "python",
   "pygments_lexer": "ipython3",
   "version": "3.6.3"
  }
 },
 "nbformat": 4,
 "nbformat_minor": 2
}
